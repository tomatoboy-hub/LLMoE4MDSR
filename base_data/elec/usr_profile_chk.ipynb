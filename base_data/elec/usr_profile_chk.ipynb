{
 "cells": [
  {
   "cell_type": "code",
   "execution_count": 6,
   "metadata": {},
   "outputs": [
    {
     "name": "stdout",
     "output_type": "stream",
     "text": [
      "データ型: <class 'dict'>\n",
      "総ユーザー数: 6\n",
      "\n",
      "ユーザーID '1' のプロファイル:\n",
      "As a consumer, I prioritize authenticity and quality when shopping for radio accessories like the Nagoya NA-701 antenna. I also value reliability and performance in tech products, such as the Sandisk Professional Ultra memory card. The convenience of the BTECH USB Smart Charger for BaoFeng radios is important to me, as well as products that cater to my needs for connectivity and communication in various settings, like the universal cell phone holder, cell phone signal booster, and dual band antenna for radios. Overall, I seek products that offer compatibility, convenience, and performance in my online shopping experience.\n",
      "\n",
      "ユーザーID '2' のプロファイル:\n",
      "As a consumer, I prioritize innovative features and connectivity in products like the BROWNING BR-180 Amateur Dual-Band Mobile Antenna and TaoTronics Bluetooth 5.0 Transmitter. I also have a keen interest in photography equipment and tech accessories like camera accessories and USB 3.0 SD card readers. I value durability, compatibility, and practical solutions in my purchasing decisions, such as the Tripp Lite Keyspan USB to Serial Adapter and the Ram Mount RAM-HOL-UN4U Universal Finger-Grip Phone or Radio Holder. Overall, I seek high-quality, user-friendly products that cater to my tech needs and hobbies.\n",
      "\n",
      "ユーザーID '3' のプロファイル:\n",
      "As a consumer, I prioritize quality brands like Baofeng, Cyber Acoustics, and RTL-SDR Blog for tech products such as two-way radios, computer speakers, and software-defined radios. I also value compatibility with Windows and Mac systems for devices like a USB floppy disk drive and a high-speed 64GB MicroSDXC card. Portability and efficiency are key factors for me when it comes to data storage solutions. Overall, I seek reliable performance and functionality in electronic devices while prioritizing convenience and ease of use.\n",
      "\n",
      "ユーザーID '4' のプロファイル:\n",
      "As a consumer, I prioritize quality and performance when shopping online for tech products. I am interested in versatile and reliable brands like Corsair, Anker, and MSI that offer compatibility with a range of devices and technologies. Whether it's audio equipment, computer components, or networking solutions, I seek products that enhance my digital experiences and productivity. The convenience of charging multiple devices simultaneously or organizing my audio setup effectively is also important to me. Overall, I value products that offer quality, reliability, and compatibility with the latest technologies.\n",
      "\n",
      "ユーザーID '5' のプロファイル:\n",
      "As a consumer, I prioritize convenience, style, and reliability in my tech purchases. I prefer wireless stereo headsets like LG's Tone Infinim HBS-900 and Tone Ultra HBS-810, high-definition security camera systems, and a variety of tech accessories for storage and data transfer. I appreciate online shopping for products like network cables, screen protectors, internet connectivity devices, and tablet bags. I also value quality and authenticity in my purchases, opting for original OEM Samsung batteries and unlocked smartphones. Overall, I seek practical and efficient solutions for my tech needs.\n",
      "\n",
      "ユーザーID '6' のプロファイル:\n",
      "As an online shopper, I prioritize security, quality, efficiency, and convenience in my purchases. I am interested in products such as the ELP 1megapixel CCTV camera for indoor and outdoor surveillance, Sandisk and Lexar microSD cards for reliable storage, Rocketek USB C OTG card reader for data transfer on the go, Sabrent SATA to USB 3.0 enclosure for fast data transfer with SSDs, and the AmazonBasics surge protector power strip for added protection and convenience. These products align with my preferences and meet my needs for online shopping.\n"
     ]
    }
   ],
   "source": [
    "import pickle\n",
    "\n",
    "# ファイルを開いてデータを読み込む\n",
    "with open('./handled/user_profile.pkl', 'rb') as f:\n",
    "    user_profiles = pickle.load(f)\n",
    "\n",
    "# データの型と総数を確認\n",
    "print(f\"データ型: {type(user_profiles)}\")\n",
    "print(f\"総ユーザー数: {len(user_profiles)}\")\n",
    "\n",
    "for i in range(len(user_profiles)):\n",
    "# 最初のキー（ユーザーID）を取得\n",
    "    first_user_id = list(user_profiles.keys())[i]\n",
    "\n",
    "    # 最初のユーザーのプロファイルを表示\n",
    "    print(f\"\\nユーザーID '{first_user_id}' のプロファイル:\")\n",
    "    print(user_profiles[first_user_id])"
   ]
  },
  {
   "cell_type": "code",
   "execution_count": 8,
   "metadata": {},
   "outputs": [
    {
     "name": "stdout",
     "output_type": "stream",
     "text": [
      "データ型: <class 'dict'>\n",
      "総ユーザー数: 5\n",
      "\n",
      "ユーザーID '1' のプロファイル:\n",
      "['I am interested in high-quality VHF/UHF antennas for my BTECH and Baofeng radios. The Nagoya NA-701 8-Inch Whip antenna caught my eye due to its genuine authenticity. I value products that are reliable and compatible with my devices.', 'I am interested in high-speed storage solutions like the Sandisk Professional Ultra 64GB MicroSDXC card. I value performance and reliability in my online shopping experience. I seek products that meet my needs and enhance my digital storage capabilities.', 'I am interested in the BTECH USB Smart Charger for BaoFeng radios. The transformer cable seems convenient for my BTECH BF-F8HP, UV-82HP, and UV-5R radios. The compatibility and versatility of these products are appealing to me as a consumer shopping online.', 'Interested in various tech accessories like a universal car holder, cell phone signal booster, and dual-band antenna for radios. Seeking convenience, connectivity, and enhanced signal strength for both home and on-the-go use. Prioritizing functionality and compatibility in online shopping choices.']\n",
      "\n",
      "ユーザーID '2' のプロファイル:\n",
      "['I am interested in the BROWNING BR-180 Amateur Dual-Band Mobile Antenna for improved communication and the TaoTronics Bluetooth 5.0 Transmitter and Receiver for seamless audio connectivity. Both products offer quality and functionality, catering to my communication and entertainment needs.', \"The consumer is interested in camera accessories such as a UV filter, extra batteries with a charger, and mounting arms for their equipment. These items indicate a passion for photography and a desire to enhance their camera's functionality and performance while shooting.\", 'The consumer is interested in tech accessories like USB 3.0 SD card reader and high-speed memory cards, as well as server rack shelves for organizing equipment. They prioritize functionality and quality in their online shopping choices.', 'The consumer has shown interests in a variety of electronic accessories such as antenna cables, gender changers, HDMI cables, USB extension cables, audio cables, and power cables. They are looking for high-quality, durable products for their electronic devices.', 'The consumer is interested in a variety of tech accessories including USB cables, key finders, cable ties, Bluetooth adapters, and charging hubs. They value durability, compatibility, and functionality in their purchases, as seen in the specific features mentioned for each product.', 'I am interested in the Tripp Lite Keyspan USB to Serial Adapter for compatibility with both PC and Mac, as well as the Tripp Lite Wall Mount Rack Enclosure for efficient server storage. These products cater to my tech needs and organization goals, making them ideal choices for my online shopping experience.', 'I am interested in the Dell Keyboard KB212-B. The online shopping experience allows me to easily compare prices and features of different commodities. I appreciate the convenience and variety available, making it simple to find the best option for my needs.', 'I am interested in purchasing the Ram Mount RAM-HOL-UN4U Universal Finger-Grip Phone or Radio Holder and the Anker Lightning Cable for iPhone. Both items seem practical and high-quality. I appreciate the convenience and functionality they offer for my phone and charging needs.']\n",
      "\n",
      "ユーザーID '3' のプロファイル:\n",
      "['As a consumer shopping online, I have shown interest in a Baofeng two-way radio, Cyber Acoustics computer speakers, and an RTL-SDR software-defined radio dongle. These products cater to my hobbies and technological needs, showcasing a diverse range of interests in communication and multimedia technology.', 'Interested in portable storage solutions like USB floppy disk drives and high-speed microSDXC cards. Seeking compatibility with various operating systems and reliability for data storage. Looking for a balance of functionality and performance in online shopping choices.']\n",
      "\n",
      "ユーザーID '4' のプロファイル:\n",
      "['As a consumer shopping online, I am interested in Behringer HPS3000 Studio Headphones and Dual Electronics LU43PB Studio Monitors. These products cater to my audio needs for both indoor and outdoor use. I value high performance and quality in my audio equipment.', 'The consumer is interested in high-performance computer components such as Corsair RAM and Silicon Power SSD, as well as storage solutions like Sandisk microSD cards. They prioritize speed and reliability in their online shopping choices.', 'I am interested in purchasing the Hosa CPR-203 Dual 1/4\" TS to Dual RCA Stereo Interconnect Cable, 3 Meters and the Monoprice Cable tie mounts 25x25(mm), 100pcs/Pack in white. These products meet my needs for quality audio connections and cable management.', 'Interested in versatile tech accessories like adapters, wireless keyboards with touchpads, and Arduino starter kits. Seeking convenience, functionality, and learning opportunities. Prioritizing compatibility with MacBook, Android TV Box, and Raspberry Pi for a well-rounded tech experience.', 'The consumer is interested in networking and power protection products from trusted brands like TP-Link and Belkin. They are looking for reliable and high-quality solutions for their home or office setup, focusing on Ethernet switches, power strips, and USB wireless adapters.', 'The consumer is interested in a variety of tech accessories, including Raspberry Pi cases, a replacement battery for a MacBook, and a portable LED monitor. These items suggest a focus on enhancing productivity and functionality in their tech setup.', 'As a consumer shopping online, I am interested in the Anker 60W 6 Port USB Wall Charger, PowerPort 6 for iPhone Xs/XS Max/XR/X/8/7/6/Plus, iPad Pro/Air 2/. The convenience of charging multiple devices simultaneously is appealing, making this a practical and efficient choice for my tech needs.', 'I am interested in purchasing a Raspberry Pi 3 Model B Motherboard and an MSI Gaming GeForce GT 710 graphics card. Both items cater to my tech needs and hobbies. I am excited to explore the possibilities they offer in terms of computing and gaming experiences.']\n",
      "\n",
      "ユーザーID '5' のプロファイル:\n",
      "['As a consumer shopping online, I am interested in LG wireless stereo headsets such as the Tone Infinim HBS-900 and Tone Ultra HBS-810. I prefer sleek designs like the silver and navy blue options. The retail packaging adds to the appeal of these high-quality audio products.', 'The consumer is interested in wireless security camera systems with HD video quality and weatherproof cameras. They are looking for a system with multiple channels and DVR capabilities for enhanced security monitoring. They are likely seeking a reliable and comprehensive solution for their surveillance needs.', 'As a consumer shopping online, I have shown interest in a variety of tech accessories and storage solutions such as microSDXC cards, hard drive duplicators, docking stations, external hard drives, CD/DVD combo drives, and USB flash drives. These items cater to my needs for data storage, backup, and transfer.', 'I am interested in purchasing the AmazonBasics RJ45 Cat-5e Network Ethernet Cable - 50 Feet (15.2 Meters). I appreciate the variety of options available online and the convenience of shopping from home. The competitive pricing and reliable brand reputation also make me more inclined to make a purchase.', 'I am interested in purchasing the OMOTON Tempered Glass Screen Protector for Google Nexus 6, 6.0 Inch, 2 Pack. The product offers protection for my device and comes in a convenient pack of two, ensuring I have a spare on hand.', 'I am interested in purchasing the OURLiNK 600Mbps AC600 Dual Band USB WiFi Dongle and the tesha BN59-00603A Replacement Remote Control for Samsung TVs. These products cater to my tech needs and offer convenience for my entertainment setup. I look forward to making a purchase soon.', 'I am interested in purchasing the Anker USB 3.0 Ethernet Adapter and TP-Link 5 Port Ethernet Switch for my networking needs. The high-speed capabilities and compact design of these products appeal to me as a consumer shopping online for reliable and efficient networking solutions.', 'I am interested in the AmazonBasics iPad Air and Netbook Bag as it fits 7 to 10-inch tablets. The black color is versatile and the handle makes it easy to carry. Overall, I am looking for practical and stylish accessories for my electronic devices while shopping online.', 'I am interested in original Samsung batteries, unlocked smartphones like the Galaxy J5, and affordable options like the BLU Studio X8 HD. I value quality, international compatibility, and cost-effectiveness in my online shopping choices.']\n"
     ]
    }
   ],
   "source": [
    "import pickle\n",
    "\n",
    "# ファイルを開いてデータを読み込む\n",
    "with open('./handled/partition_preferences.pkl', 'rb') as f:\n",
    "    user_profiles = pickle.load(f)\n",
    "\n",
    "# データの型と総数を確認\n",
    "print(f\"データ型: {type(user_profiles)}\")\n",
    "print(f\"総ユーザー数: {len(user_profiles)}\")\n",
    "\n",
    "for i in range(len(user_profiles)):\n",
    "# 最初のキー（ユーザーID）を取得\n",
    "    first_user_id = list(user_profiles.keys())[i]\n",
    "\n",
    "    # 最初のユーザーのプロファイルを表示\n",
    "    print(f\"\\nユーザーID '{first_user_id}' のプロファイル:\")\n",
    "    print(user_profiles[first_user_id])"
   ]
  },
  {
   "cell_type": "code",
   "execution_count": null,
   "metadata": {},
   "outputs": [],
   "source": []
  }
 ],
 "metadata": {
  "kernelspec": {
   "display_name": "LLM4CDSR",
   "language": "python",
   "name": "python3"
  },
  "language_info": {
   "codemirror_mode": {
    "name": "ipython",
    "version": 3
   },
   "file_extension": ".py",
   "mimetype": "text/x-python",
   "name": "python",
   "nbconvert_exporter": "python",
   "pygments_lexer": "ipython3",
   "version": "3.9.16"
  }
 },
 "nbformat": 4,
 "nbformat_minor": 2
}
