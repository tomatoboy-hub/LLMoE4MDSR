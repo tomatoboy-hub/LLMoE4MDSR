{
 "cells": [
  {
   "cell_type": "code",
   "execution_count": 1,
   "metadata": {},
   "outputs": [],
   "source": [
    "import os\n",
    "import pickle\n",
    "import jsonlines\n",
    "import pandas as pd\n",
    "import numpy as np\n",
    "import json\n",
    "import copy\n",
    "from tqdm import tqdm\n",
    "from zhipuai import ZhipuAI"
   ]
  },
  {
   "cell_type": "code",
   "execution_count": 2,
   "metadata": {},
   "outputs": [],
   "source": [
    "data = json.load(open(\"./handled/id_map.json\", \"r\"))"
   ]
  },
  {
   "cell_type": "code",
   "execution_count": 3,
   "metadata": {},
   "outputs": [],
   "source": [
    "def construct_prompt(label_list, domain=\"A\"):\n",
    "\n",
    "    if domain == \"A\":\n",
    "        prompt = \"书籍有如下的标签\\n:\"\n",
    "    elif domain == \"B\":\n",
    "        prompt = \"电影有如下的标签\\n:\"\n",
    "    elif domain == \"C\":\n",
    "        prompt = \"音乐有如下的标签\\n:\"\n",
    "\n",
    "    for label in label_list:\n",
    "        prompt += \"{}, \".format(label)\n",
    "    \n",
    "    if len(prompt) > 100:\n",
    "        prompt = prompt[:100]\n",
    "    else:\n",
    "        prompt = prompt[:-2]\n",
    "\n",
    "    return prompt"
   ]
  },
  {
   "cell_type": "code",
   "execution_count": null,
   "metadata": {},
   "outputs": [],
   "source": [
    "item_text_A = []\n",
    "label_num = []\n",
    "\n",
    "for labels in tqdm(data[\"item_dict\"][\"0\"][\"id2label\"].values()):\n",
    "    label_list = []\n",
    "    for label in labels:\n",
    "        label_list += label.split(\"|\")\n",
    "    label_list = list(set(label_list))  # remove replicated label\n",
    "    label_num.append(len(label_list))\n",
    "    item_text_A.append(construct_prompt(label_list, \"A\"))"
   ]
  },
  {
   "cell_type": "code",
   "execution_count": null,
   "metadata": {},
   "outputs": [],
   "source": [
    "item_text_B = []\n",
    "label_num = []\n",
    "\n",
    "for labels in tqdm(data[\"item_dict\"][\"1\"][\"id2label\"].values()):\n",
    "    label_list = []\n",
    "    for label in labels:\n",
    "        label_list += label.split(\"|\")\n",
    "    label_list = list(set(label_list))  # remove replicated label\n",
    "    label_num.append(len(label_list))\n",
    "    item_text_B.append(construct_prompt(label_list, \"B\"))"
   ]
  },
  {
   "cell_type": "code",
   "execution_count": 6,
   "metadata": {},
   "outputs": [],
   "source": [
    "def construct_title(label_list):\n",
    "\n",
    "    count = 0\n",
    "    label_str = \"\"\n",
    "    for label in label_list:\n",
    "        label_str += label\n",
    "        label_str += \", \"\n",
    "        count += 1\n",
    "\n",
    "        if count >= 5:\n",
    "            break\n",
    "    \n",
    "    title = \"<{}>\".format(label_str)\n",
    "\n",
    "    return title"
   ]
  },
  {
   "cell_type": "code",
   "execution_count": null,
   "metadata": {},
   "outputs": [],
   "source": [
    "title_list = []\n",
    "for labels in tqdm(data[\"item_dict\"][\"0\"][\"id2label\"].values()):\n",
    "    # title = construct_title(labels)\n",
    "    # title_list.append(title)\n",
    "    title_list.append(labels)\n",
    "\n",
    "with open(\"./handled/title_A.pkl\", \"wb\") as f:\n",
    "    pickle.dump(title_list, f)"
   ]
  },
  {
   "cell_type": "code",
   "execution_count": null,
   "metadata": {},
   "outputs": [],
   "source": [
    "len(title_list)"
   ]
  },
  {
   "cell_type": "code",
   "execution_count": null,
   "metadata": {},
   "outputs": [],
   "source": [
    "title_list = []\n",
    "for labels in tqdm(data[\"item_dict\"][\"1\"][\"id2label\"].values()):\n",
    "    # title = construct_title(labels)\n",
    "    # title_list.append(title)\n",
    "    title_list.append(labels)\n",
    "\n",
    "with open(\"./handled/title_B.pkl\", \"wb\") as f:\n",
    "    pickle.dump(title_list, f)"
   ]
  },
  {
   "cell_type": "code",
   "execution_count": null,
   "metadata": {},
   "outputs": [],
   "source": [
    "len(title_list)"
   ]
  },
  {
   "cell_type": "code",
   "execution_count": null,
   "metadata": {},
   "outputs": [],
   "source": [
    "data[\"item_dict\"][\"0\"][\"id2str\"].keys()"
   ]
  },
  {
   "cell_type": "code",
   "execution_count": null,
   "metadata": {},
   "outputs": [],
   "source": [
    "# 统计domainA和B的平均prompt长度，以及空prompt的占比\n",
    "lenA, lenB = [], []\n",
    "voidA, voidB = 0, 0\n",
    "\n",
    "for item_text in item_text_A:\n",
    "    if len(item_text) < 11:\n",
    "        voidA += 1\n",
    "    else:\n",
    "        lenA.append(len(item_text))\n",
    "\n",
    "for item_text in item_text_B:\n",
    "    if len(item_text) < 12:\n",
    "        voidB += 1\n",
    "    else:\n",
    "        lenB.append(len(item_text))\n",
    "\n",
    "print(\"The ratio of void item text in domain A: %.5f, domain B: %.5f\" % \n",
    "      (voidA / len(item_text_A), voidB / len(item_text_B)))\n",
    "print(\"The average length of domain A: %.5f, domain B: %.5f\" %\n",
    "      (np.mean(lenA), np.mean(lenB)))"
   ]
  },
  {
   "cell_type": "code",
   "execution_count": 9,
   "metadata": {},
   "outputs": [],
   "source": [
    "def save_data(data_path, data):\n",
    "    '''write all_data list to a new jsonl'''\n",
    "    with jsonlines.open(\"./handled/\"+ data_path, \"w\") as w:\n",
    "        for meta_data in data:\n",
    "            w.write(meta_data)\n",
    "\n",
    "# for book domain\n",
    "id_map = data[\"item_dict\"][\"0\"][\"id2str\"]\n",
    "json_data = []\n",
    "for id, item_prompt in enumerate(item_text_A):\n",
    "    item_id = str(id+1)\n",
    "    json_data.append({\"input\": item_prompt, \"target\": \"\", \"item\": id_map[item_id], \"item_id\": item_id})\n",
    "\n",
    "# save_data(\"item_str_A.jsonline\", json_data)\n",
    "\n",
    "# for movie domain\n",
    "id_map = data[\"item_dict\"][\"1\"][\"id2str\"]\n",
    "json_data = []\n",
    "for id, item_prompt in enumerate(item_text_B):\n",
    "    item_id = str(id+1)\n",
    "    json_data.append({\"input\": item_prompt, \"target\": \"\", \"item\": id_map[item_id], \"item_id\": item_id})\n",
    "\n",
    "save_data(\"/item_str_B.jsonline\", json_data)"
   ]
  },
  {
   "cell_type": "code",
   "execution_count": 25,
   "metadata": {},
   "outputs": [],
   "source": [
    "with open(\"./handled/item_prompt.pkl\", \"wb\") as f:\n",
    "    pickle.dump((item_text_A, item_text_B), f)"
   ]
  },
  {
   "cell_type": "code",
   "execution_count": null,
   "metadata": {},
   "outputs": [],
   "source": [
    "client = ZhipuAI(api_key=\"\") "
   ]
  },
  {
   "cell_type": "code",
   "execution_count": null,
   "metadata": {},
   "outputs": [],
   "source": [
    "item_emb_A = []\n",
    "\n",
    "for item_text in tqdm(item_text_A):\n",
    "    response = client.embeddings.create(\n",
    "        model=\"embedding-3\", #填写需要调用的模型编码\n",
    "        input=item_text\n",
    "    )\n",
    "\n",
    "    item_emb_A.append(response.data[0].embedding)"
   ]
  },
  {
   "cell_type": "code",
   "execution_count": 46,
   "metadata": {},
   "outputs": [],
   "source": [
    "item_emb_A = np.array(item_emb_A)\n",
    "\n",
    "with open(\"./handled/item_emb_A.pkl\", \"wb\") as f:\n",
    "    pickle.dump(item_emb_A, f)"
   ]
  },
  {
   "cell_type": "code",
   "execution_count": null,
   "metadata": {},
   "outputs": [],
   "source": [
    "item_emb_B = []\n",
    "\n",
    "for item_text in tqdm(item_text_B):\n",
    "    response = client.embeddings.create(\n",
    "        model=\"embedding-3\", #填写需要调用的模型编码\n",
    "        input=item_text\n",
    "    )\n",
    "\n",
    "    item_emb_B.append(response.data[0].embedding)"
   ]
  },
  {
   "cell_type": "code",
   "execution_count": 48,
   "metadata": {},
   "outputs": [],
   "source": [
    "item_emb_B = np.array(item_emb_B)\n",
    "\n",
    "with open(\"./handled/item_emb_B.pkl\", \"wb\") as f:\n",
    "    pickle.dump(item_emb_B, f)"
   ]
  }
 ],
 "metadata": {
  "kernelspec": {
   "display_name": "rec",
   "language": "python",
   "name": "python3"
  },
  "language_info": {
   "codemirror_mode": {
    "name": "ipython",
    "version": 3
   },
   "file_extension": ".py",
   "mimetype": "text/x-python",
   "name": "python",
   "nbconvert_exporter": "python",
   "pygments_lexer": "ipython3",
   "version": "3.9.16"
  },
  "orig_nbformat": 4
 },
 "nbformat": 4,
 "nbformat_minor": 2
}
