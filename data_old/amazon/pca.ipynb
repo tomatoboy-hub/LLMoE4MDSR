{
 "cells": [
  {
   "cell_type": "code",
   "execution_count": 70,
   "metadata": {},
   "outputs": [],
   "source": [
    "import pickle\n",
    "import os\n",
    "from sklearn.decomposition import PCA\n",
    "import numpy as np\n",
    "import json"
   ]
  },
  {
   "cell_type": "code",
   "execution_count": 71,
   "metadata": {},
   "outputs": [],
   "source": [
    "dataset = \"amazon\"\n",
    "all_file = \"itm_emb_np\"\n",
    "domainA_file = \"{}_A\".format(all_file) # domain A file\n",
    "domainB_file = \"{}_B\".format(all_file) # domain B file\n",
    "pca_dimension = 128 # the target dimension"
   ]
  },
  {
   "cell_type": "code",
   "execution_count": 72,
   "metadata": {},
   "outputs": [],
   "source": [
    "llm_emb_A = pickle.load(open(os.path.join(\"./handled/\", \n",
    "                                          \"{}.pkl\".format(domainA_file)), \"rb\"))\n",
    "llm_emb_B = pickle.load(open(os.path.join(\"./handled/\", \n",
    "                                          \"{}.pkl\".format(domainB_file)), \"rb\"))"
   ]
  },
  {
   "cell_type": "code",
   "execution_count": 73,
   "metadata": {},
   "outputs": [],
   "source": [
    "pcaA = PCA(n_components=pca_dimension)\n",
    "pca_emb_A = pcaA.fit_transform(llm_emb_A)\n",
    "pcaB = PCA(n_components=pca_dimension)\n",
    "pca_emb_B = pcaB.fit_transform(llm_emb_B)"
   ]
  },
  {
   "cell_type": "code",
   "execution_count": 74,
   "metadata": {},
   "outputs": [],
   "source": [
    "with open(os.path.join(\"./handled/\", \n",
    "                       \"{}_pca{}.pkl\".format(domainA_file, pca_dimension)), \"wb\") as f:\n",
    "    pickle.dump(pca_emb_A, f)\n",
    "\n",
    "with open(os.path.join(\"./handled/\", \n",
    "                       \"{}_pca{}.pkl\".format(domainB_file, pca_dimension)), \"wb\") as f:\n",
    "    pickle.dump(pca_emb_B, f)"
   ]
  },
  {
   "cell_type": "code",
   "execution_count": 75,
   "metadata": {},
   "outputs": [],
   "source": [
    "all_dimension = 1024\n",
    "all_emb = np.concatenate([llm_emb_A, llm_emb_B])"
   ]
  },
  {
   "cell_type": "code",
   "execution_count": 76,
   "metadata": {},
   "outputs": [],
   "source": [
    "pcaAll = PCA(n_components=all_dimension)\n",
    "pca_emb_all = pcaAll.fit_transform(all_emb)"
   ]
  },
  {
   "cell_type": "code",
   "execution_count": 77,
   "metadata": {},
   "outputs": [],
   "source": [
    "with open(os.path.join(\"./handled/\", \n",
    "                       \"{}_all.pkl\".format(all_file)), \"wb\") as f:\n",
    "    pickle.dump(pca_emb_all, f)"
   ]
  }
 ],
 "metadata": {
  "kernelspec": {
   "display_name": "rec",
   "language": "python",
   "name": "python3"
  },
  "language_info": {
   "codemirror_mode": {
    "name": "ipython",
    "version": 3
   },
   "file_extension": ".py",
   "mimetype": "text/x-python",
   "name": "python",
   "nbconvert_exporter": "python",
   "pygments_lexer": "ipython3",
   "version": "3.9.16"
  }
 },
 "nbformat": 4,
 "nbformat_minor": 2
}
