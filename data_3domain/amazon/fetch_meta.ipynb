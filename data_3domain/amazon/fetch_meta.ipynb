{
 "cells": [
  {
   "cell_type": "code",
   "execution_count": 6,
   "id": "e7aa9b15",
   "metadata": {},
   "outputs": [],
   "source": [
    "def Amazon_meta(dataset_name, data_maps):\n",
    "    '''\n",
    "    asin - ID of the product, e.g. 0000031852\n",
    "    --\"asin\": \"0000031852\",\n",
    "    title - name of the product\n",
    "    --\"title\": \"Girls Ballet Tutu Zebra Hot Pink\",\n",
    "    description\n",
    "    price - price in US dollars (at time of crawl)\n",
    "    --\"price\": 3.17,\n",
    "    imUrl - url of the product image (str)\n",
    "    --\"imUrl\": \"http://ecx.images-amazon.com/images/I/51fAmVkTbyL._SY300_.jpg\",\n",
    "    related - related products (also bought, also viewed, bought together, buy after viewing)\n",
    "    --\"related\":{\n",
    "        \"also_bought\": [\"B00JHONN1S\"],\n",
    "        \"also_viewed\": [\"B002BZX8Z6\"],\n",
    "        \"bought_together\": [\"B002BZX8Z6\"]\n",
    "    },\n",
    "    salesRank - sales rank information\n",
    "    --\"salesRank\": {\"Toys & Games\": 211836}\n",
    "    brand - brand name\n",
    "    --\"brand\": \"Coxlures\",\n",
    "    categories - list of categories the product belongs to\n",
    "    --\"categories\": [[\"Sports & Outdoors\", \"Other Sports\", \"Dance\"]]\n",
    "    '''\n",
    "    datas = {}\n",
    "    meta_flie = './raw/meta_' + str(dataset_name) + '.json'\n",
    "    item_asins = set(data_maps['str2id'].keys()) # 高速なルックアップのためにセットに変換\n",
    "\n",
    "    for info in parse_meta(meta_flie):\n",
    "        if info.get('asin') in item_asins:\n",
    "            datas[info['asin']] = info\n",
    "    return datas\n",
    "\n",
    "import json\n",
    "from tqdm import tqdm\n",
    "\n",
    "def parse_meta(path): # for Amazon\n",
    "    inter_list = []\n",
    "    with open(path, 'r') as f:\n",
    "        for line in tqdm(f):\n",
    "            if line and line.strip():\n",
    "                inter_list.append(json.loads(line))\n",
    "    return inter_list\n",
    "\n",
    "\n",
    "# def parse_meta(path): # for Amazon\n",
    "#     g = gzip.open(path, 'rb')\n",
    "#     inter_list = []\n",
    "#     for l in tqdm(g):\n",
    "#         if l and l.strip():\n",
    "#             inter_list.append(json.loads(l.decode()) )\n",
    "\n",
    "#     return inter_list"
   ]
  },
  {
   "cell_type": "code",
   "execution_count": 7,
   "id": "ab910587",
   "metadata": {},
   "outputs": [
    {
     "name": "stdout",
     "output_type": "stream",
     "text": [
      "\n",
      "--- Fetching and saving metadata for filtered items ---\n",
      "--- Found existing metadata file for 'Clothing_Shoes_and_Jewelry', skipping ---\n",
      "--- Found existing metadata file for 'Sports_and_Outdoors', skipping ---\n",
      "Fetching metadata for domain 'AMAZON_FASHION'...\n"
     ]
    },
    {
     "name": "stderr",
     "output_type": "stream",
     "text": [
      "0it [00:00, ?it/s]"
     ]
    },
    {
     "name": "stderr",
     "output_type": "stream",
     "text": [
      "186637it [00:01, 125668.34it/s]\n"
     ]
    },
    {
     "name": "stdout",
     "output_type": "stream",
     "text": [
      "Saved metadata to ./handled/item2attributes_C.json\n",
      "\n",
      "Metadata fetching finished successfully!\n"
     ]
    }
   ],
   "source": [
    "# 2_fetch_metadata.py\n",
    "\n",
    "import json\n",
    "import os\n",
    "from collections import defaultdict\n",
    "\n",
    "# --- 設定項目 ---\n",
    "HANDLED_DIR = \"./handled\"\n",
    "\n",
    "    # 0: \"Clothing_Shoes_and_Jewelry\",\n",
    "    # 1: \"Sports_and_Outdoors\",\n",
    "domains = {\n",
    "    0: \"Clothing_Shoes_and_Jewelry\",\n",
    "    1: \"Sports_and_Outdoors\",\n",
    "    2: \"AMAZON_FASHION\"\n",
    "}\n",
    "# --- ここまで ---\n",
    "\n",
    "# --- ステップ1: id_map.jsonを読み込む ---\n",
    "id_map_path = os.path.join(HANDLED_DIR, \"id_map.json\")\n",
    "if not os.path.exists(id_map_path):\n",
    "    print(f\"Error: '{id_map_path}' not found. Please run '1_process_interactions.py' first.\")\n",
    "    exit()\n",
    "\n",
    "with open(id_map_path, \"r\") as f:\n",
    "    map_dict = json.load(f)\n",
    "item_dict = map_dict[\"item_dict\"]\n",
    "\n",
    "# --- ステップ2: 各ドメインのメタデータを取得・保存 ---\n",
    "print(\"\\n--- Fetching and saving metadata for filtered items ---\")\n",
    "for domain_id, domain_name in domains.items():\n",
    "    meta_file_path = os.path.join(HANDLED_DIR, f\"item2attributes_{chr(ord('A') + domain_id)}.json\")\n",
    "    \n",
    "    if not os.path.exists(meta_file_path):\n",
    "        print(f\"Fetching metadata for domain '{domain_name}'...\")\n",
    "        if str(domain_id) in item_dict:\n",
    "            # フィルタリング後のitem IDのみを対象にメタデータを取得\n",
    "            meta_data = Amazon_meta(domain_name, item_dict[str(domain_id)])\n",
    "            with open(meta_file_path, 'w') as out:\n",
    "                json.dump(meta_data, out)\n",
    "            print(f\"Saved metadata to {meta_file_path}\")\n",
    "        else:\n",
    "            print(f\"No items left for domain '{domain_name}' after filtering, skipping metadata.\")\n",
    "    else:\n",
    "        print(f\"--- Found existing metadata file for '{domain_name}', skipping ---\")\n",
    "\n",
    "print(\"\\nMetadata fetching finished successfully!\")"
   ]
  },
  {
   "cell_type": "code",
   "execution_count": null,
   "id": "ec7019ee",
   "metadata": {},
   "outputs": [],
   "source": []
  }
 ],
 "metadata": {
  "kernelspec": {
   "display_name": "LLM4CDSR",
   "language": "python",
   "name": "python3"
  },
  "language_info": {
   "codemirror_mode": {
    "name": "ipython",
    "version": 3
   },
   "file_extension": ".py",
   "mimetype": "text/x-python",
   "name": "python",
   "nbconvert_exporter": "python",
   "pygments_lexer": "ipython3",
   "version": "3.9.16"
  }
 },
 "nbformat": 4,
 "nbformat_minor": 5
}
